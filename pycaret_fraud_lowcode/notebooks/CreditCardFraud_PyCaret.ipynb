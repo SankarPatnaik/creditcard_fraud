{
 "cells": [
  {
   "cell_type": "markdown",
   "id": "3266caef",
   "metadata": {},
   "source": [
    "# PyCaret Fraud (Low Code)"
   ]
  },
  {
   "cell_type": "code",
   "execution_count": null,
   "id": "9a3e454f",
   "metadata": {},
   "outputs": [],
   "source": [
    "!pip -q install pycaret shap imbalanced-learn plotly  # if on Colab"
   ]
  },
  {
   "cell_type": "code",
   "execution_count": null,
   "id": "82867598",
   "metadata": {},
   "outputs": [],
   "source": [
    "import pandas as pd, os\n",
    "from pathlib import Path\n",
    "DEMO = Path('../data/raw/tiny_transactions.csv')\n",
    "KAGGLE = Path('../data/raw/creditcard.csv')\n",
    "DATA = KAGGLE if KAGGLE.exists() else DEMO\n",
    "print('Using:', DATA)\n",
    "df = pd.read_csv(DATA)\n",
    "df.head()\n"
   ]
  },
  {
   "cell_type": "code",
   "execution_count": null,
   "id": "d7879519",
   "metadata": {},
   "outputs": [],
   "source": [
    "from pycaret.classification import setup, compare_models, tune_model, blend_models, evaluate_model, interpret_model, finalize_model, save_model, predict_model, pull\n",
    "clf1 = setup(data=df, target='Class', session_id=42, train_size=0.8, fold=5, fold_strategy='stratifiedkfold',\n",
    "             normalize=True, remove_multicollinearity=True, fix_imbalance=True, log_experiment=False, html=False)\n",
    "top3 = compare_models(n_select=3, sort='AUC')\n",
    "tuned = [tune_model(m, optimize='AUC') for m in top3]\n",
    "blend = blend_models(estimator_list=tuned, optimize='AUC')\n",
    "evaluate_model(blend)\n",
    "interpret_model(blend)  # SHAP summary\n",
    "final_blend = finalize_model(blend)\n",
    "save_model(final_blend, '../models/pycaret_fraud_v1')\n",
    "holdout_preds = predict_model(final_blend); holdout_preds.head()\n"
   ]
  }
 ],
 "metadata": {},
 "nbformat": 4,
 "nbformat_minor": 5
}
