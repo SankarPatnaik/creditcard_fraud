{
 "cells": [
  {
   "cell_type": "markdown",
   "id": "6306e59f",
   "metadata": {},
   "source": [
    "# 01 — Exploration & EDA\n",
    "Loads a CSV and performs quick EDA. The active dataset should be at `../data/raw/transactions.csv`.\n",
    "Use `python scripts/switch_dataset.py --use kaggle --kaggle-path /path/to/creditcard.csv` to switch."
   ]
  },
  {
   "cell_type": "code",
   "execution_count": null,
   "id": "66d7c25f",
   "metadata": {},
   "outputs": [],
   "source": [
    "\n",
    "import pandas as pd\n",
    "import numpy as np\n",
    "import matplotlib.pyplot as plt\n",
    "import seaborn as sns\n",
    "from pathlib import Path\n",
    "\n",
    "DATA_PATH = Path(\"../data/raw/transactions.csv\")\n",
    "if not DATA_PATH.exists():\n",
    "    # default to tiny demo if switch script was not used\n",
    "    DATA_PATH = Path(\"../data/raw/tiny_transactions.csv\")\n",
    "\n",
    "df = pd.read_csv(DATA_PATH)\n",
    "df.head()\n"
   ]
  },
  {
   "cell_type": "markdown",
   "id": "31506e7f",
   "metadata": {},
   "source": [
    "## Basic Info & Class Imbalance"
   ]
  },
  {
   "cell_type": "code",
   "execution_count": null,
   "id": "bf4995d6",
   "metadata": {},
   "outputs": [],
   "source": [
    "\n",
    "df.info()\n",
    "class_counts = df['Class'].value_counts().sort_index()\n",
    "class_ratio = class_counts / len(df)\n",
    "print(\"Counts:\", class_counts.to_dict())\n",
    "print(\"Ratio:\", class_ratio.to_dict())\n",
    "\n",
    "sns.countplot(x='Class', data=df)\n",
    "plt.title('Target Distribution')\n",
    "plt.show()\n"
   ]
  },
  {
   "cell_type": "markdown",
   "id": "950364b1",
   "metadata": {},
   "source": [
    "## Numeric Summaries"
   ]
  },
  {
   "cell_type": "code",
   "execution_count": null,
   "id": "9c8f8a30",
   "metadata": {},
   "outputs": [],
   "source": [
    "\n",
    "df.describe()\n"
   ]
  },
  {
   "cell_type": "markdown",
   "id": "f824a46a",
   "metadata": {},
   "source": [
    "## Amount Distribution"
   ]
  },
  {
   "cell_type": "code",
   "execution_count": null,
   "id": "ea62255c",
   "metadata": {},
   "outputs": [],
   "source": [
    "\n",
    "sns.histplot(df['Amount'], bins=50)\n",
    "plt.title('Amount Distribution')\n",
    "plt.show()\n"
   ]
  },
  {
   "cell_type": "markdown",
   "id": "1bfac7ed",
   "metadata": {},
   "source": [
    "## Correlations (subset for readability)"
   ]
  },
  {
   "cell_type": "code",
   "execution_count": null,
   "id": "b5165824",
   "metadata": {},
   "outputs": [],
   "source": [
    "\n",
    "num_cols = [c for c in df.columns if c not in ['Class']]\n",
    "corr = df[num_cols].corr()\n",
    "plt.figure(figsize=(6,5))\n",
    "sns.heatmap(corr, cmap='coolwarm', annot=False)\n",
    "plt.title('Feature Correlation Heatmap')\n",
    "plt.show()\n"
   ]
  }
 ],
 "metadata": {},
 "nbformat": 4,
 "nbformat_minor": 5
}
